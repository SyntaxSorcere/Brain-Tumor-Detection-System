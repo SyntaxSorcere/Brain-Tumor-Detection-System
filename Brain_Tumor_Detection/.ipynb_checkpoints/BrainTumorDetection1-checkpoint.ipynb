{
 "cells": [
  {
   "cell_type": "code",
   "execution_count": 36,
   "metadata": {},
   "outputs": [
    {
     "name": "stdout",
     "output_type": "stream",
     "text": [
      "Prediction: [[0.]]\n",
      "Model prediction: Tumor\n"
     ]
    }
   ],
   "source": [
    "import cv2\n",
    "from PIL import Image\n",
    "from keras.models import load_model\n",
    "from keras.preprocessing import image as keras_image\n",
    "import matplotlib.pyplot as plt\n",
    "%matplotlib inline\n",
    "def detectTumor:\n",
    "# Load the model\n",
    "    model = load_model('BrainToumorDetection.h5')\n",
    "\n",
    "# Read the image\n",
    "image_path = 'C:\\\\Users\\\\ARUN\\\\OneDrive\\\\Desktop\\\\ALL FOLDER\\\\PROJECT\\\\Brain_Tumor_Detection\\\\Img\\\\Yes\\\\aug_y4_0_7198.jpg'\n",
    "image = cv2.imread(image_path)\n",
    "\n",
    "# Convert the image to PIL format\n",
    "img = Image.fromarray(image)\n",
    "\n",
    "# Resize the image\n",
    "img_resized = img.resize((128, 128))\n",
    "\n",
    "# Convert the image to a NumPy array\n",
    "img_array = keras_image.img_to_array(img_resized)\n",
    "\n",
    "# Reshape the image array\n",
    "img_array = img_array.reshape(1, 128, 128, 3)\n",
    "\n",
    "# Predict using the model\n",
    "y_pred = model.predict(img_array)\n",
    "\n",
    "# Print the prediction\n",
    "print(\"Prediction:\", y_pred)\n",
    "\n",
    "# Convert prediction to label\n",
    "if y_pred < 0.5:\n",
    "    pred = 'Tumor'\n",
    "else:\n",
    "    pred = 'Not tumor'\n",
    "\n",
    "print(\"Model prediction:\", pred)\n"
   ]
  },
  {
   "cell_type": "code",
   "execution_count": 69,
   "metadata": {},
   "outputs": [
    {
     "name": "stdout",
     "output_type": "stream",
     "text": [
      "Collecting pygame\n",
      "  Downloading https://files.pythonhosted.org/packages/a8/44/a2a8a6c74d36936e20a682adf56761a459e05a42039b6c195089e5a930e1/pygame-2.5.2-cp36-cp36m-win_amd64.whl (10.7MB)\n",
      "Installing collected packages: pygame\n",
      "Successfully installed pygame-2.5.2\n",
      "Note: you may need to restart the kernel to use updated packages.\n"
     ]
    },
    {
     "name": "stderr",
     "output_type": "stream",
     "text": [
      "  Cache entry deserialization failed, entry ignored\n",
      "mkl-random 1.0.1 requires cython, which is not installed.\n",
      "tensorflow 1.10.0 has requirement numpy<=1.14.5,>=1.13.3, but you'll have numpy 1.15.1 which is incompatible.\n",
      "tensorflow 1.10.0 has requirement setuptools<=39.1.0, but you'll have setuptools 58.0.4 which is incompatible.\n",
      "pandas 1.1.5 has requirement numpy>=1.15.4, but you'll have numpy 1.15.1 which is incompatible.\n",
      "You are using pip version 10.0.1, however version 21.3.1 is available.\n",
      "You should consider upgrading via the 'python -m pip install --upgrade pip' command.\n"
     ]
    }
   ],
   "source": []
  },
  {
   "cell_type": "code",
   "execution_count": null,
   "metadata": {},
   "outputs": [],
   "source": []
  },
  {
   "cell_type": "code",
   "execution_count": null,
   "metadata": {},
   "outputs": [],
   "source": []
  },
  {
   "cell_type": "code",
   "execution_count": null,
   "metadata": {},
   "outputs": [],
   "source": []
  },
  {
   "cell_type": "code",
   "execution_count": 68,
   "metadata": {},
   "outputs": [],
   "source": [
    "import cv2\n",
    "from PIL import Image\n",
    "from keras.models import load_model\n",
    "from keras.preprocessing import image as keras_image\n",
    "import matplotlib.pyplot as plt\n",
    "%matplotlib inline\n",
    "\n",
    "def detectTumor(path):  # Added parentheses after function name and colon at the end\n",
    "    # Load the model\n",
    "    model = load_model('BrainToumorDetection.h5')\n",
    "\n",
    "    # Read the image\n",
    "    image_path = path\n",
    "    image = cv2.imread(image_path)\n",
    "\n",
    "    # Convert the image to PIL format\n",
    "    img = Image.fromarray(image)\n",
    "\n",
    "    # Resize the image\n",
    "    img_resized = img.resize((128, 128))\n",
    "\n",
    "    # Convert the image to a NumPy array\n",
    "    img_array = keras_image.img_to_array(img_resized)\n",
    "\n",
    "    # Reshape the image array\n",
    "    img_array = img_array.reshape(1, 128, 128, 3)\n",
    "\n",
    "    # Predict using the model\n",
    "    y_pred = model.predict(img_array)\n",
    "\n",
    "    return y_pred"
   ]
  },
  {
   "cell_type": "code",
   "execution_count": 65,
   "metadata": {},
   "outputs": [
    {
     "name": "stdout",
     "output_type": "stream",
     "text": [
      "Prediction: [[0.]]\n",
      "[[0.]]\n",
      "Model prediction: Tumor\n"
     ]
    }
   ],
   "source": [
    "x=detectTumor('C:\\\\Users\\\\ARUN\\\\OneDrive\\\\Desktop\\\\ALL FOLDER\\\\PROJECT\\\\Brain_Tumor_Detection\\\\Img\\\\Yes\\\\aug_y4_0_7198.jpg')  # Call the function to execute it\n",
    "print(x)\n",
    "pred=''\n",
    "if x < 0.5:\n",
    "    pred = 'Tumor'\n",
    "else:\n",
    "    pred = 'Not tumor'\n",
    "\n",
    "print(\"Model prediction:\", pred)"
   ]
  },
  {
   "cell_type": "code",
   "execution_count": null,
   "metadata": {},
   "outputs": [],
   "source": []
  },
  {
   "cell_type": "code",
   "execution_count": 67,
   "metadata": {},
   "outputs": [
    {
     "name": "stdout",
     "output_type": "stream",
     "text": [
      "Prediction: [[0.]]\n",
      "Prediction: [[1.]]\n"
     ]
    }
   ],
   "source": [
    "import tkinter as tk\n",
    "from tkinter import Label, filedialog, Toplevel  # Importing filedialog module\n",
    "from PIL import Image, ImageTk\n",
    "\n",
    "root = tk.Tk()\n",
    "root.title(\"Brain tumor detection\")\n",
    "\n",
    "def open_file():\n",
    "    path = filedialog.askopenfilename(title=\"Select an image\", filetypes=((\"Image files\", \"*.jpg;*.jpeg;*.png\"), (\"All files\", \"*.*\")))\n",
    "    result=detectTumor(path)\n",
    "    \n",
    "    if result < 0.5:\n",
    "        brainTumorDetect()\n",
    "    else:\n",
    "        brainTumorNotDetect()\n",
    "\n",
    "def brainTumorDetect():\n",
    "    brainTumor = Toplevel()\n",
    "    brainTumor.state('zoomed')  # Maximize the window\n",
    "    brainTumor.title(\"Result\")\n",
    "    message_label = tk.Label(brainTumor, text=\"Brain Tumor Detected\", font=(\"Arial\", 24), bg=\"White\")\n",
    "    message_label.pack(padx=20, pady=20)\n",
    "\n",
    "def brainTumorNotDetect():\n",
    "    notbrainTumor = Toplevel()\n",
    "    notbrainTumor.state('zoomed')  # Maximize the window\n",
    "    notbrainTumor.title(\"Result\")\n",
    "    message_label = tk.Label(notbrainTumor, text=\"Brain Tumor not Detected\", font=(\"Arial\", 24), bg=\"White\")\n",
    "    message_label.pack(padx=20, pady=20)\n",
    "    \n",
    "    \n",
    "# Set the window geometry to fill the screen\n",
    "screen_width = root.winfo_screenwidth()\n",
    "screen_height = root.winfo_screenheight()\n",
    "root.state('zoomed')  # Maximize the window\n",
    "root.geometry(f\"{screen_width}x{screen_height}+0+0\")\n",
    "\n",
    "# Load the edited image\n",
    "img = Image.open(\"C:/Users/ARUN/Downloads/law.png\")\n",
    "\n",
    "# Convert the image to a PhotoImage object\n",
    "pimage = ImageTk.PhotoImage(img)\n",
    "\n",
    "# Create a label with the image\n",
    "l1 = Label(root, image=pimage)\n",
    "\n",
    "# Set the position of the label\n",
    "l1.place(x=-200, y=-130)\n",
    "\n",
    "text_label = tk.Label(root, text=\"Choose Image\", font=(\"Arial\", 24), bg=\"White\")\n",
    "text_label.place(relx=0.5, rely=0.5, anchor=\"center\")\n",
    "btn_open = tk.Button(root, text=\"Open Image\", command=open_file)\n",
    "btn_open.pack(pady=10)\n",
    "btn_open.place(x=730, y=430)\n",
    "root.mainloop()\n"
   ]
  }
 ],
 "metadata": {
  "kernelspec": {
   "display_name": "Python 3",
   "language": "python",
   "name": "python3"
  },
  "language_info": {
   "codemirror_mode": {
    "name": "ipython",
    "version": 3
   },
   "file_extension": ".py",
   "mimetype": "text/x-python",
   "name": "python",
   "nbconvert_exporter": "python",
   "pygments_lexer": "ipython3",
   "version": "3.6.6"
  }
 },
 "nbformat": 4,
 "nbformat_minor": 2
}
