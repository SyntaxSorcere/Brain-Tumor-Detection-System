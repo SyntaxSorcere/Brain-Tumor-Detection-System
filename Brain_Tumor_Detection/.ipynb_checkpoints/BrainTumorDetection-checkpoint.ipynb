{
 "cells": [
  {
   "cell_type": "code",
   "execution_count": 51,
   "metadata": {},
   "outputs": [],
   "source": [
    "import cv2\n",
    "import os\n",
    "from PIL import Image\n",
    "import numpy as np\n",
    "import tensorflow as tf\n",
    "from tensorflow import keras\n",
    "from keras.models import Sequential\n",
    "from keras.layers import Conv2D, MaxPooling2D\n",
    "from keras.layers import Activation, Dropout, Flatten, Dense\n",
    "from keras.utils import normalize\n",
    "from sklearn.model_selection import train_test_split\n",
    "from sklearn.metrics import f1_score\n",
    "from sklearn.metrics import confusion_matrix\n",
    "from sklearn.utils import shuffle\n",
    "from keras.utils import to_categorical\n",
    "from os import listdir\n",
    "import matplotlib.pyplot as plt\n",
    "%matplotlib inline\n",
    "import random\n",
    "from sklearn.metrics import classification_report\n",
    "from sklearn.metrics import accuracy_score"
   ]
  },
  {
   "cell_type": "code",
   "execution_count": 2,
   "metadata": {},
   "outputs": [],
   "source": [
    "Tumor=\"C:\\\\Users\\\\ARUN\\\\OneDrive\\\\Desktop\\\\ALL FOLDER\\\\PROJECT\\\\Brain_Tumor_Detection\\\\Img\\\\Yes\"\n",
    "No_Tumor=\"C:\\\\Users\\\\ARUN\\\\OneDrive\\\\Desktop\\\\ALL FOLDER\\\\PROJECT\\\\Brain_Tumor_Detection\\\\Img\\\\No\"\n",
    "label=[]\n",
    "dataset=[]\n",
    "input_size=128"
   ]
  },
  {
   "cell_type": "code",
   "execution_count": 3,
   "metadata": {},
   "outputs": [],
   "source": [
    "Tumor_file_names = os.listdir(Tumor)\n",
    "for i, image_name in enumerate(Tumor_file_names):\n",
    "    image_path = os.path.join(Tumor,image_name)\n",
    "    image=cv2.imread(image_path)\n",
    "    image=Image.fromarray(image,'RGB')\n",
    "    image=image.resize((input_size, input_size))\n",
    "    dataset.append(np.array(image))\n",
    "    label.append(0)"
   ]
  },
  {
   "cell_type": "code",
   "execution_count": 4,
   "metadata": {},
   "outputs": [],
   "source": [
    "No_Tumor_file_names = os.listdir(No_Tumor)\n",
    "for i, image_name in enumerate(No_Tumor_file_names):\n",
    "    image_path = os.path.join(No_Tumor,image_name)\n",
    "    image=cv2.imread(image_path)\n",
    "    image=Image.fromarray(image,'RGB')\n",
    "    image=image.resize((input_size, input_size))\n",
    "    dataset.append(np.array(image))\n",
    "    label.append(1)"
   ]
  },
  {
   "cell_type": "code",
   "execution_count": 5,
   "metadata": {},
   "outputs": [],
   "source": [
    "dataset=np.array(dataset)\n",
    "label=np.array(label)"
   ]
  },
  {
   "cell_type": "code",
   "execution_count": 6,
   "metadata": {},
   "outputs": [],
   "source": [
    "x_train, x_test, y_train, y_test = train_test_split(dataset, label, test_size=0.2, random_state=0)"
   ]
  },
  {
   "cell_type": "code",
   "execution_count": 7,
   "metadata": {},
   "outputs": [],
   "source": [
    "y_train=y_train.reshape(len(y_train),1)\n",
    "y_test=y_test.reshape(len(y_test),1)"
   ]
  },
  {
   "cell_type": "code",
   "execution_count": 8,
   "metadata": {},
   "outputs": [
    {
     "name": "stdout",
     "output_type": "stream",
     "text": [
      "(7200, 128, 128, 3)\n",
      "(7200, 1)\n",
      "(1800, 128, 128, 3)\n",
      "(1800, 1)\n"
     ]
    }
   ],
   "source": [
    "print(x_train.shape)\n",
    "print(y_train.shape)\n",
    "print(x_test.shape)\n",
    "print(y_test.shape)"
   ]
  },
  {
   "cell_type": "code",
   "execution_count": 9,
   "metadata": {},
   "outputs": [],
   "source": [
    "x_train=x_train/255.0\n",
    "x_test=x_test/255.5"
   ]
  },
  {
   "cell_type": "code",
   "execution_count": 10,
   "metadata": {},
   "outputs": [],
   "source": [
    "model=Sequential()\n",
    "model.add(Conv2D(16,(3,3), activation='relu', input_shape=(128,128,3)))\n",
    "model.add(MaxPooling2D((2,2)))\n",
    "\n",
    "model.add(Conv2D(32,(3,3), activation='relu'))\n",
    "model.add(MaxPooling2D(2,2))\n",
    "\n",
    "model.add(Conv2D(64,(3,3), activation='relu'))\n",
    "model.add(MaxPooling2D(2,2))\n",
    "\n",
    "model.add(Conv2D(128,(3,3), activation='relu'))\n",
    "model.add(MaxPooling2D(2,2))\n",
    "\n",
    "model.add(Flatten())\n",
    "model.add(Dense(64,activation='relu'))\n",
    "model.add(Dense(1, activation='sigmoid'))"
   ]
  },
  {
   "cell_type": "code",
   "execution_count": 11,
   "metadata": {},
   "outputs": [],
   "source": [
    "model.compile(loss='binary_crossentropy', optimizer='adam', metrics=['accuracy'])"
   ]
  },
  {
   "cell_type": "code",
   "execution_count": 12,
   "metadata": {},
   "outputs": [
    {
     "name": "stdout",
     "output_type": "stream",
     "text": [
      "Epoch 1/20\n",
      "7200/7200 [==============================] - 53s 7ms/step - loss: 0.5379 - acc: 0.7232\n",
      "Epoch 2/20\n",
      "7200/7200 [==============================] - 52s 7ms/step - loss: 0.4183 - acc: 0.8042\n",
      "Epoch 3/20\n",
      "7200/7200 [==============================] - 52s 7ms/step - loss: 0.3668 - acc: 0.8337\n",
      "Epoch 4/20\n",
      "7200/7200 [==============================] - 52s 7ms/step - loss: 0.2898 - acc: 0.8746\n",
      "Epoch 5/20\n",
      "7200/7200 [==============================] - 51s 7ms/step - loss: 0.2289 - acc: 0.9051\n",
      "Epoch 6/20\n",
      "7200/7200 [==============================] - 51s 7ms/step - loss: 0.1727 - acc: 0.9339\n",
      "Epoch 7/20\n",
      "7200/7200 [==============================] - 55s 8ms/step - loss: 0.1261 - acc: 0.9518\n",
      "Epoch 8/20\n",
      "7200/7200 [==============================] - 53s 7ms/step - loss: 0.0893 - acc: 0.9704\n",
      "Epoch 9/20\n",
      "7200/7200 [==============================] - 51s 7ms/step - loss: 0.0649 - acc: 0.9790\n",
      "Epoch 10/20\n",
      "7200/7200 [==============================] - 52s 7ms/step - loss: 0.0439 - acc: 0.9847\n",
      "Epoch 11/20\n",
      "7200/7200 [==============================] - 52s 7ms/step - loss: 0.0238 - acc: 0.9929\n",
      "Epoch 12/20\n",
      "7200/7200 [==============================] - 52s 7ms/step - loss: 0.0162 - acc: 0.9957\n",
      "Epoch 13/20\n",
      "7200/7200 [==============================] - 52s 7ms/step - loss: 0.0111 - acc: 0.9968\n",
      "Epoch 14/20\n",
      "7200/7200 [==============================] - 57s 8ms/step - loss: 0.0187 - acc: 0.9936\n",
      "Epoch 15/20\n",
      "7200/7200 [==============================] - 52s 7ms/step - loss: 0.0482 - acc: 0.9818\n",
      "Epoch 16/20\n",
      "7200/7200 [==============================] - 52s 7ms/step - loss: 0.0061 - acc: 0.9988\n",
      "Epoch 17/20\n",
      "7200/7200 [==============================] - 52s 7ms/step - loss: 0.0078 - acc: 0.9971\n",
      "Epoch 18/20\n",
      "7200/7200 [==============================] - 52s 7ms/step - loss: 0.0011 - acc: 1.0000\n",
      "Epoch 19/20\n",
      "7200/7200 [==============================] - 51s 7ms/step - loss: 3.1450e-04 - acc: 1.0000\n",
      "Epoch 20/20\n",
      "7200/7200 [==============================] - 51s 7ms/step - loss: 1.6730e-04 - acc: 1.0000\n"
     ]
    },
    {
     "data": {
      "text/plain": [
       "<keras.callbacks.History at 0x193e5232080>"
      ]
     },
     "execution_count": 12,
     "metadata": {},
     "output_type": "execute_result"
    }
   ],
   "source": [
    "model.fit(x_train,y_train, epochs=20, batch_size=64)"
   ]
  },
  {
   "cell_type": "code",
   "execution_count": 13,
   "metadata": {},
   "outputs": [
    {
     "name": "stdout",
     "output_type": "stream",
     "text": [
      "1800/1800 [==============================] - 6s 3ms/step\n"
     ]
    },
    {
     "data": {
      "text/plain": [
       "[0.20903000300658278, 0.9583333333333334]"
      ]
     },
     "execution_count": 13,
     "metadata": {},
     "output_type": "execute_result"
    }
   ],
   "source": [
    "model.evaluate(x_test,y_test)"
   ]
  },
  {
   "cell_type": "code",
   "execution_count": 14,
   "metadata": {},
   "outputs": [],
   "source": [
    "from keras.models import load_model\n",
    "\n",
    "model.save('BrainToumorDetection.h5')"
   ]
  },
  {
   "cell_type": "code",
   "execution_count": 61,
   "metadata": {},
   "outputs": [
    {
     "name": "stdout",
     "output_type": "stream",
     "text": [
      "Val is:  [[8.723511e-14]]\n",
      "Now Val is:  [[False]]\n",
      "Model is Tumor\n"
     ]
    },
    {
     "data": {
      "image/png": "[encoded data removed]",
      "text/plain": [
       "<Figure size 432x288 with 1 Axes>"
      ]
     },
     "metadata": {
      "needs_background": "light"
     },
     "output_type": "display_data"
    }
   ],
   "source": [
    "idx=random.randint(1, 1800)\n",
    "plt.imshow(x_test[idx, :])\n",
    "plt.show\n",
    "y_pred=model.predict(x_test[idx, :].reshape(1,128,128,3))\n",
    "print(\"Val is: \",y_pred)\n",
    "y_pred=y_pred>0.5\n",
    "print(\"Now Val is: \",y_pred)\n",
    "if(y_pred == 0):\n",
    "    pred='Tumor'\n",
    "else:\n",
    "    pred='Not toumer'\n",
    "print(f\"Model is {pred}\")"
   ]
  },
  {
   "cell_type": "code",
   "execution_count": 45,
   "metadata": {},
   "outputs": [
    {
     "name": "stdout",
     "output_type": "stream",
     "text": [
      "1800/1800 [==============================] - 5s 3ms/step\n",
      "Test Loss: 0.20903000300658278\n",
      "Test Accuracy: 0.9583333333333334\n"
     ]
    }
   ],
   "source": [
    "loss, accuracy = model.evaluate(x_test, y_test)\n",
    "print(\"Test Loss:\", loss)\n",
    "print(\"Test Accuracy:\", accuracy)\n"
   ]
  },
  {
   "cell_type": "code",
   "execution_count": 47,
   "metadata": {},
   "outputs": [
    {
     "name": "stdout",
     "output_type": "stream",
     "text": [
      "Confusion Matrix:\n",
      "[[844  49]\n",
      " [ 26 881]]\n"
     ]
    }
   ],
   "source": [
    "y_pred = model.predict(x_test)\n",
    "y_pred_classes = (y_pred > 0.5).astype(\"int32\")\n",
    "\n",
    "# Calculate confusion matrix\n",
    "conf_matrix = confusion_matrix(y_test, y_pred_classes)\n",
    "print(\"Confusion Matrix:\")\n",
    "print(conf_matrix)"
   ]
  },
  {
   "cell_type": "code",
   "execution_count": 48,
   "metadata": {},
   "outputs": [
    {
     "name": "stdout",
     "output_type": "stream",
     "text": [
      "sensitivity: 0.9451\n",
      "specificity: 0.9713\n"
     ]
    }
   ],
   "source": [
    "sensitivity = conf_matrix[0, 0] / (conf_matrix[0, 0] + conf_matrix[0, 1])\n",
    "specificity = conf_matrix[1, 1] / (conf_matrix[1, 0] + conf_matrix[1, 1])\n",
    "print(\"sensitivity: {:.4f}\".format(sensitivity))\n",
    "print(\"specificity: {:.4f}\".format(specificity))"
   ]
  },
  {
   "cell_type": "code",
   "execution_count": 56,
   "metadata": {},
   "outputs": [
    {
     "name": "stdout",
     "output_type": "stream",
     "text": [
      "loss\n",
      "acc\n"
     ]
    }
   ],
   "source": [
    "history = model.history.history\n",
    "for key in history.keys():\n",
    "   print(key) "
   ]
  },
  {
   "cell_type": "code",
   "execution_count": null,
   "metadata": {},
   "outputs": [],
   "source": []
  }
 ],
 "metadata": {
  "kernelspec": {
   "display_name": "Python 3",
   "language": "python",
   "name": "python3"
  },
  "language_info": {
   "codemirror_mode": {
    "name": "ipython",
    "version": 3
   },
   "file_extension": ".py",
   "mimetype": "text/x-python",
   "name": "python",
   "nbconvert_exporter": "python",
   "pygments_lexer": "ipython3",
   "version": "3.6.6"
  }
 },
 "nbformat": 4,
 "nbformat_minor": 2
}
