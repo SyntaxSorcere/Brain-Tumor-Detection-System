{
 "cells": [
  {
   "cell_type": "code",
   "execution_count": 3,
   "metadata": {},
   "outputs": [
    {
     "name": "stderr",
     "output_type": "stream",
     "text": [
      "Using TensorFlow backend.\n"
     ]
    }
   ],
   "source": [
    "import cv2\n",
    "import os\n",
    "from PIL import Image\n",
    "import numpy as np\n",
    "from sklearn.model_selection import train_test_split\n",
    "import tensorflow as tf\n",
    "from tensorflow import keras\n",
    "from keras.models import Sequential\n",
    "from keras.layers import Conv2D, MaxPooling2D\n",
    "from keras.layers import Activation, Dropout, Flatten, Dense\n",
    "from keras.utils import normalize\n",
    "from sklearn.model_selection import train_test_split\n",
    "from sklearn.metrics import f1_score\n",
    "from sklearn.metrics import confusion_matrix\n",
    "from sklearn.utils import shuffle\n",
    "from keras.utils import to_categorical\n",
    "from os import listdir\n",
    "import matplotlib.pyplot as plt\n",
    "%matplotlib inline\n",
    "import random\n",
    "from sklearn.metrics import classification_report\n",
    "from sklearn.metrics import accuracy_score"
   ]
  },
  {
   "cell_type": "code",
   "execution_count": 4,
   "metadata": {},
   "outputs": [],
   "source": [
    "Tumor=\"C:\\\\Users\\\\ARUN\\\\OneDrive\\\\Desktop\\\\ALL FOLDER\\\\PROJECT\\\\Brain_Tumor_Detection\\\\Img\\\\Yes\"\n",
    "No_Tumor=\"C:\\\\Users\\\\ARUN\\\\OneDrive\\\\Desktop\\\\ALL FOLDER\\\\PROJECT\\\\Brain_Tumor_Detection\\\\Img\\\\No\"\n",
    "label=[]\n",
    "dataset=[]\n",
    "input_size=128"
   ]
  },
  {
   "cell_type": "code",
   "execution_count": 5,
   "metadata": {},
   "outputs": [],
   "source": [
    "Tumor_file_names = os.listdir(Tumor)\n",
    "for i, image_name in enumerate(Tumor_file_names):\n",
    "    image_path = os.path.join(Tumor,image_name)\n",
    "    image=cv2.imread(image_path)\n",
    "    image=Image.fromarray(image,'RGB')\n",
    "    image=image.resize((input_size, input_size))\n",
    "    dataset.append(np.array(image))\n",
    "    label.append(0)"
   ]
  },
  {
   "cell_type": "code",
   "execution_count": 6,
   "metadata": {},
   "outputs": [],
   "source": [
    "No_Tumor_file_names = os.listdir(No_Tumor)\n",
    "for i, image_name in enumerate(No_Tumor_file_names):\n",
    "    image_path = os.path.join(No_Tumor,image_name)\n",
    "    image=cv2.imread(image_path)\n",
    "    image=Image.fromarray(image,'RGB')\n",
    "    image=image.resize((input_size, input_size))\n",
    "    dataset.append(np.array(image))\n",
    "    label.append(1)"
   ]
  },
  {
   "cell_type": "code",
   "execution_count": 7,
   "metadata": {},
   "outputs": [],
   "source": [
    "dataset=np.array(dataset)\n",
    "label=np.array(label)"
   ]
  },
  {
   "cell_type": "code",
   "execution_count": 8,
   "metadata": {},
   "outputs": [],
   "source": [
    "x_train, x_test, y_train, y_test = train_test_split(dataset, label, test_size=0.2, random_state=0)"
   ]
  },
  {
   "cell_type": "code",
   "execution_count": 10,
   "metadata": {},
   "outputs": [
    {
     "data": {
      "text/plain": [
       "'idx=100\\nplt.imshow(x_test[idx, :])\\nplt.show\\ny_pred=model.predict(x_test[idx, :].reshape(1,128,128,3))\\nprint(\"Val is: \",y_pred)\\ny_pred=y_pred>0.5\\nprint(\"Now Val is: \",y_pred)\\nif(y_pred == 0):\\n    pred=\\'Tumor\\'\\nelse:\\n    pred=\\'Not toumer\\'\\nprint(f\"Model is {pred}\")'"
      ]
     },
     "execution_count": 10,
     "metadata": {},
     "output_type": "execute_result"
    }
   ],
   "source": [
    "\"\"\"idx=100\n",
    "plt.imshow(x_test[idx, :])\n",
    "plt.show\n",
    "y_pred=model.predict(x_test[idx, :].reshape(1,128,128,3))\n",
    "print(\"Val is: \",y_pred)\n",
    "y_pred=y_pred>0.5\n",
    "print(\"Now Val is: \",y_pred)\n",
    "if(y_pred == 0):\n",
    "    pred='Tumor'\n",
    "else:\n",
    "    pred='Not toumer'\n",
    "print(f\"Model is {pred}\")\"\"\""
   ]
  },
  {
   "cell_type": "code",
   "execution_count": null,
   "metadata": {},
   "outputs": [],
   "source": []
  },
  {
   "cell_type": "code",
   "execution_count": null,
   "metadata": {},
   "outputs": [],
   "source": []
  },
  {
   "cell_type": "code",
   "execution_count": null,
   "metadata": {},
   "outputs": [],
   "source": []
  },
  {
   "cell_type": "code",
   "execution_count": null,
   "metadata": {},
   "outputs": [],
   "source": [
    "from keras.models import load_model\n",
    "model = load_model('Braintoumer.h5')"
   ]
  },
  {
   "cell_type": "code",
   "execution_count": null,
   "metadata": {},
   "outputs": [],
   "source": []
  },
  {
   "cell_type": "code",
   "execution_count": null,
   "metadata": {},
   "outputs": [],
   "source": []
  },
  {
   "cell_type": "code",
   "execution_count": null,
   "metadata": {},
   "outputs": [],
   "source": []
  },
  {
   "cell_type": "code",
   "execution_count": null,
   "metadata": {},
   "outputs": [],
   "source": []
  },
  {
   "cell_type": "code",
   "execution_count": null,
   "metadata": {},
   "outputs": [],
   "source": []
  },
  {
   "cell_type": "code",
   "execution_count": null,
   "metadata": {},
   "outputs": [],
   "source": []
  },
  {
   "cell_type": "code",
   "execution_count": null,
   "metadata": {},
   "outputs": [],
   "source": []
  },
  {
   "cell_type": "code",
   "execution_count": null,
   "metadata": {},
   "outputs": [],
   "source": []
  },
  {
   "cell_type": "code",
   "execution_count": null,
   "metadata": {},
   "outputs": [],
   "source": []
  },
  {
   "cell_type": "code",
   "execution_count": null,
   "metadata": {},
   "outputs": [],
   "source": []
  }
 ],
 "metadata": {
  "kernelspec": {
   "display_name": "Python 3",
   "language": "python",
   "name": "python3"
  },
  "language_info": {
   "codemirror_mode": {
    "name": "ipython",
    "version": 3
   },
   "file_extension": ".py",
   "mimetype": "text/x-python",
   "name": "python",
   "nbconvert_exporter": "python",
   "pygments_lexer": "ipython3",
   "version": "3.6.6"
  }
 },
 "nbformat": 4,
 "nbformat_minor": 2
}
